{
 "cells": [
  {
   "cell_type": "code",
   "execution_count": 58,
   "metadata": {},
   "outputs": [],
   "source": [
    "import pandas as pd\n",
    "import string"
   ]
  },
  {
   "cell_type": "code",
   "execution_count": 59,
   "metadata": {},
   "outputs": [],
   "source": [
    "from sklearn.preprocessing import MultiLabelBinarizer\n",
    "from sklearn.model_selection import train_test_split\n",
    "from sklearn.naive_bayes import BernoulliNB"
   ]
  },
  {
   "cell_type": "code",
   "execution_count": 60,
   "metadata": {},
   "outputs": [],
   "source": [
    "from sklearn.metrics import classification_report"
   ]
  },
  {
   "cell_type": "markdown",
   "metadata": {},
   "source": [
    "**For 200 reviews**"
   ]
  },
  {
   "cell_type": "code",
   "execution_count": 61,
   "metadata": {},
   "outputs": [],
   "source": [
    "tag_df = pd.read_csv(\"annotation dataset/small_annotation.csv\", encoding = \"ISO-8859-1\")\n",
    "sentiment_df = pd.read_csv(\"annotation dataset/sentiment annotation.csv\", encoding = \"ISO-8859-1\")"
   ]
  },
  {
   "cell_type": "code",
   "execution_count": 62,
   "metadata": {},
   "outputs": [],
   "source": [
    "from sklearn.utils import resample\n",
    "\n",
    "def upsample(df):\n",
    "    df.fillna(0,inplace = True)\n",
    "    majority = int(df.iloc[:,1].values.sum())\n",
    "    # Separate majority and minority classes\n",
    "    df_majority = df[df.iloc[:,1]==1]\n",
    "    df_minority = df[df.iloc[:,1]==0]\n",
    "    # Upsample minority class\n",
    "    df_minority_upsampled = resample(df_minority, \n",
    "                                     replace=True,     # sample with replacement\n",
    "                                     n_samples=majority,    # to match majority class\n",
    "                                     random_state=123) # reproducible results\n",
    "\n",
    "    # Combine majority class with upsampled minority class\n",
    "    upsampled = pd.concat([df_majority, df_minority_upsampled])\n",
    "    return upsampled"
   ]
  },
  {
   "cell_type": "code",
   "execution_count": 63,
   "metadata": {},
   "outputs": [],
   "source": [
    "food = tag_df.loc[tag_df['food'] == 1].reset_index(drop=True)\n",
    "ambience = tag_df.loc[tag_df['ambience'] == 1].reset_index(drop=True)\n",
    "service = tag_df.loc[tag_df['service'] == 1].reset_index(drop=True)\n",
    "price = tag_df.loc[tag_df['price'] == 1].reset_index(drop=True)"
   ]
  },
  {
   "cell_type": "code",
   "execution_count": 64,
   "metadata": {},
   "outputs": [],
   "source": [
    "exclude = set(string.punctuation)\n",
    "def get_text_subset(df):\n",
    "    txt = []\n",
    "    for i in range(len(df)):\n",
    "        text = df.at[i,'text'].replace('\\n \\n', '').lower()\n",
    "        #text = ''.join(ch for ch in text if ch not in exclude)\n",
    "        txt.append(text)\n",
    "    return txt"
   ]
  },
  {
   "cell_type": "code",
   "execution_count": 65,
   "metadata": {},
   "outputs": [],
   "source": [
    "# extract sentiment into 4 sub datasets\n",
    "categories = ['food', 'ambience', 'service', 'price']\n",
    "def extract_sentiment(category):  \n",
    "    reviews = []\n",
    "    for i in range(len(tag_df[category])):\n",
    "        for j in range(len(sentiment_df)):\n",
    "            if tag_df['review_id'][i] == sentiment_df['review_id'][j] and tag_df[category][i] == 1:\n",
    "                reviews.append(sentiment_df.iloc[j])\n",
    "    print(len(reviews))  \n",
    "    return reviews"
   ]
  },
  {
   "cell_type": "code",
   "execution_count": 66,
   "metadata": {
    "scrolled": true
   },
   "outputs": [
    {
     "name": "stdout",
     "output_type": "stream",
     "text": [
      "189\n",
      "83\n",
      "137\n",
      "55\n"
     ]
    }
   ],
   "source": [
    "food_df = pd.DataFrame(extract_sentiment(categories[0]))\n",
    "ambience_df = pd.DataFrame(extract_sentiment(categories[1]))\n",
    "service_df = pd.DataFrame(extract_sentiment(categories[2]))\n",
    "price_df = pd.DataFrame(extract_sentiment(categories[3]))"
   ]
  },
  {
   "cell_type": "code",
   "execution_count": 67,
   "metadata": {},
   "outputs": [],
   "source": [
    "# reset index\n",
    "food_df.reset_index(inplace = True)\n",
    "ambience_df.reset_index(inplace = True)\n",
    "service_df.reset_index(inplace = True)\n",
    "price_df.reset_index(inplace = True)"
   ]
  },
  {
   "cell_type": "code",
   "execution_count": 68,
   "metadata": {},
   "outputs": [],
   "source": [
    "# get 4 subsets from sentiment.csv\n",
    "food_txt = get_text_subset(food_df)\n",
    "ambience_txt = get_text_subset(ambience_df)\n",
    "service_txt = get_text_subset(service_df)\n",
    "price_txt = get_text_subset(price_df)"
   ]
  },
  {
   "cell_type": "code",
   "execution_count": 69,
   "metadata": {},
   "outputs": [],
   "source": [
    "def get_label(df,label):\n",
    "    txt = []\n",
    "    for i in range(len(df)):\n",
    "        text = df.at[i,label]\n",
    "        txt.append(text)\n",
    "    return txt"
   ]
  },
  {
   "cell_type": "code",
   "execution_count": 70,
   "metadata": {},
   "outputs": [],
   "source": [
    "# get 4 labels from sentiment.csv\n",
    "food_label = get_label(food_df, 'food_pos')\n",
    "ambience_label = get_label(ambience_df, 'ambience_pos')\n",
    "service_label = get_label(service_df, 'service_pos')\n",
    "price_label = get_label(price_df, 'price_pos')"
   ]
  },
  {
   "cell_type": "markdown",
   "metadata": {},
   "source": [
    "**Naive Bayes Model**"
   ]
  },
  {
   "cell_type": "code",
   "execution_count": 71,
   "metadata": {},
   "outputs": [],
   "source": [
    "def naive_bayes(txt, label):\n",
    "    review_tokens = [review.split() for review in txt]\n",
    "    \n",
    "    onehot_enc = MultiLabelBinarizer()\n",
    "    onehot_enc.fit(review_tokens)\n",
    "    X_train, X_test, y_train, y_test = train_test_split(review_tokens, label, test_size=0.2, random_state=None)\n",
    "    #return onehot_enc, X_train, X_test, y_train, y_test\n",
    "    \n",
    "    # classification report\n",
    "    bnbc = BernoulliNB(binarize=None)\n",
    "    bnbc.fit(onehot_enc.transform(X_train), y_train)\n",
    "    y_test_pred = bnbc.predict(onehot_enc.transform(X_test))\n",
    "    score_train = bnbc.score(onehot_enc.transform(X_train), y_train)\n",
    "    #print(\"score on training data :\",score_train)\n",
    "    score_test = bnbc.score(onehot_enc.transform(X_test),y_test)\n",
    "    print(\"testing data accuracy:\",score_test)\n",
    "    print(\"Classification report for testing data :\")\n",
    "    print(classification_report(y_test, y_test_pred))\n",
    "    #print(y_test_pred)"
   ]
  },
  {
   "cell_type": "code",
   "execution_count": 72,
   "metadata": {},
   "outputs": [
    {
     "name": "stdout",
     "output_type": "stream",
     "text": [
      "food\n",
      "testing data accuracy: 0.868421052631579\n",
      "Classification report for testing data :\n",
      "              precision    recall  f1-score   support\n",
      "\n",
      "         0.0       0.00      0.00      0.00         4\n",
      "         1.0       0.89      0.97      0.93        34\n",
      "\n",
      "   micro avg       0.87      0.87      0.87        38\n",
      "   macro avg       0.45      0.49      0.46        38\n",
      "weighted avg       0.80      0.87      0.83        38\n",
      "\n",
      "ambience\n",
      "testing data accuracy: 0.8823529411764706\n",
      "Classification report for testing data :\n",
      "              precision    recall  f1-score   support\n",
      "\n",
      "         0.0       0.00      0.00      0.00         2\n",
      "         1.0       0.88      1.00      0.94        15\n",
      "\n",
      "   micro avg       0.88      0.88      0.88        17\n",
      "   macro avg       0.44      0.50      0.47        17\n",
      "weighted avg       0.78      0.88      0.83        17\n",
      "\n",
      "service\n",
      "testing data accuracy: 0.75\n",
      "Classification report for testing data :\n",
      "              precision    recall  f1-score   support\n",
      "\n",
      "         0.0       1.00      0.30      0.46        10\n",
      "         1.0       0.72      1.00      0.84        18\n",
      "\n",
      "   micro avg       0.75      0.75      0.75        28\n",
      "   macro avg       0.86      0.65      0.65        28\n",
      "weighted avg       0.82      0.75      0.70        28\n",
      "\n",
      "price\n",
      "testing data accuracy: 0.8181818181818182\n",
      "Classification report for testing data :\n",
      "              precision    recall  f1-score   support\n",
      "\n",
      "         0.0       1.00      0.60      0.75         5\n",
      "         1.0       0.75      1.00      0.86         6\n",
      "\n",
      "   micro avg       0.82      0.82      0.82        11\n",
      "   macro avg       0.88      0.80      0.80        11\n",
      "weighted avg       0.86      0.82      0.81        11\n",
      "\n"
     ]
    },
    {
     "name": "stderr",
     "output_type": "stream",
     "text": [
      "/Users/Cheryl/anaconda3/lib/python3.7/site-packages/sklearn/metrics/classification.py:1143: UndefinedMetricWarning: Precision and F-score are ill-defined and being set to 0.0 in labels with no predicted samples.\n",
      "  'precision', 'predicted', average, warn_for)\n"
     ]
    }
   ],
   "source": [
    "print('food')\n",
    "naive_bayes(food_txt, food_label)\n",
    "print('ambience')\n",
    "naive_bayes(ambience_txt, ambience_label)\n",
    "print('service')\n",
    "naive_bayes(service_txt, service_label)\n",
    "print('price')\n",
    "naive_bayes(price_txt, price_label)"
   ]
  },
  {
   "cell_type": "markdown",
   "metadata": {},
   "source": [
    "**For 391 reviews**"
   ]
  },
  {
   "cell_type": "code",
   "execution_count": 85,
   "metadata": {},
   "outputs": [],
   "source": [
    "tag_df = pd.read_csv(\"annotation dataset/big_annotation.csv\", encoding = \"ISO-8859-1\")\n",
    "sentiment_df = pd.read_csv(\"annotation dataset/sentiment annotation.csv\", encoding = \"ISO-8859-1\")"
   ]
  },
  {
   "cell_type": "code",
   "execution_count": 86,
   "metadata": {},
   "outputs": [],
   "source": [
    "from sklearn.utils import resample\n",
    "\n",
    "def upsample(df):\n",
    "    df.fillna(0,inplace = True)\n",
    "    majority = int(df.iloc[:,1].values.sum())\n",
    "    # Separate majority and minority classes\n",
    "    df_majority = df[df.iloc[:,1]==1]\n",
    "    df_minority = df[df.iloc[:,1]==0]\n",
    "    # Upsample minority class\n",
    "    df_minority_upsampled = resample(df_minority, \n",
    "                                     replace=True,     # sample with replacement\n",
    "                                     n_samples=majority,    # to match majority class\n",
    "                                     random_state=123) # reproducible results\n",
    "\n",
    "    # Combine majority class with upsampled minority class\n",
    "    upsampled = pd.concat([df_majority, df_minority_upsampled])\n",
    "    return upsampled"
   ]
  },
  {
   "cell_type": "code",
   "execution_count": 87,
   "metadata": {},
   "outputs": [],
   "source": [
    "food = tag_df.loc[tag_df['food'] == 1].reset_index(drop=True)\n",
    "ambience = tag_df.loc[tag_df['ambience'] == 1].reset_index(drop=True)\n",
    "service = tag_df.loc[tag_df['service'] == 1].reset_index(drop=True)\n",
    "price = tag_df.loc[tag_df['price'] == 1].reset_index(drop=True)"
   ]
  },
  {
   "cell_type": "code",
   "execution_count": 88,
   "metadata": {},
   "outputs": [],
   "source": [
    "exclude = set(string.punctuation)\n",
    "def get_text_subset(df):\n",
    "    txt = []\n",
    "    for i in range(len(df)):\n",
    "        text = df.at[i,'text'].replace('\\n \\n', '').lower()\n",
    "        #text = ''.join(ch for ch in text if ch not in exclude)\n",
    "        txt.append(text)\n",
    "    return txt"
   ]
  },
  {
   "cell_type": "code",
   "execution_count": 89,
   "metadata": {},
   "outputs": [],
   "source": [
    "# extract sentiment into 4 sub datasets\n",
    "categories = ['food', 'ambience', 'service', 'price']\n",
    "def extract_sentiment(category):  \n",
    "    reviews = []\n",
    "    for i in range(len(tag_df[category])):\n",
    "        for j in range(len(sentiment_df)):\n",
    "            if tag_df['review_id'][i] == sentiment_df['review_id'][j] and tag_df[category][i] == 1:\n",
    "                reviews.append(sentiment_df.iloc[j])\n",
    "    print(len(reviews))  \n",
    "    return reviews"
   ]
  },
  {
   "cell_type": "code",
   "execution_count": 90,
   "metadata": {
    "scrolled": true
   },
   "outputs": [
    {
     "name": "stdout",
     "output_type": "stream",
     "text": [
      "372\n",
      "152\n",
      "248\n",
      "116\n"
     ]
    }
   ],
   "source": [
    "food_df = pd.DataFrame(extract_sentiment(categories[0]))\n",
    "ambience_df = pd.DataFrame(extract_sentiment(categories[1]))\n",
    "service_df = pd.DataFrame(extract_sentiment(categories[2]))\n",
    "price_df = pd.DataFrame(extract_sentiment(categories[3]))"
   ]
  },
  {
   "cell_type": "code",
   "execution_count": 91,
   "metadata": {},
   "outputs": [],
   "source": [
    "# reset index\n",
    "food_df.reset_index(inplace = True)\n",
    "ambience_df.reset_index(inplace = True)\n",
    "service_df.reset_index(inplace = True)\n",
    "price_df.reset_index(inplace = True)"
   ]
  },
  {
   "cell_type": "code",
   "execution_count": 92,
   "metadata": {},
   "outputs": [],
   "source": [
    "# get 4 subsets from sentiment.csv\n",
    "food_txt = get_text_subset(food_df)\n",
    "ambience_txt = get_text_subset(ambience_df)\n",
    "service_txt = get_text_subset(service_df)\n",
    "price_txt = get_text_subset(price_df)"
   ]
  },
  {
   "cell_type": "code",
   "execution_count": 93,
   "metadata": {},
   "outputs": [],
   "source": [
    "def get_label(df,label):\n",
    "    txt = []\n",
    "    for i in range(len(df)):\n",
    "        text = df.at[i,label]\n",
    "        txt.append(text)\n",
    "    return txt"
   ]
  },
  {
   "cell_type": "code",
   "execution_count": 94,
   "metadata": {},
   "outputs": [],
   "source": [
    "# get 4 labels from sentiment.csv\n",
    "food_label = get_label(food_df, 'food_pos')\n",
    "ambience_label = get_label(ambience_df, 'ambience_pos')\n",
    "service_label = get_label(service_df, 'service_pos')\n",
    "price_label = get_label(price_df, 'price_pos')"
   ]
  },
  {
   "cell_type": "markdown",
   "metadata": {},
   "source": [
    "**Naive Bayes Model**"
   ]
  },
  {
   "cell_type": "code",
   "execution_count": 95,
   "metadata": {},
   "outputs": [],
   "source": [
    "def naive_bayes(txt, label):\n",
    "    review_tokens = [review.split() for review in txt]\n",
    "    \n",
    "    onehot_enc = MultiLabelBinarizer()\n",
    "    onehot_enc.fit(review_tokens)\n",
    "    X_train, X_test, y_train, y_test = train_test_split(review_tokens, label, test_size=0.2, random_state=None)\n",
    "    #return onehot_enc, X_train, X_test, y_train, y_test\n",
    "    \n",
    "    # classification report\n",
    "    bnbc = BernoulliNB(binarize=None)\n",
    "    bnbc.fit(onehot_enc.transform(X_train), y_train)\n",
    "    y_test_pred = bnbc.predict(onehot_enc.transform(X_test))\n",
    "    score_train = bnbc.score(onehot_enc.transform(X_train), y_train)\n",
    "    #print(\"score on training data :\",score_train)\n",
    "    score_test = bnbc.score(onehot_enc.transform(X_test),y_test)\n",
    "    print(\"testing data accuracy:\",score_test)\n",
    "    print(\"Classification report for testing data :\")\n",
    "    print(classification_report(y_test, y_test_pred))\n",
    "    #print(y_test_pred)"
   ]
  },
  {
   "cell_type": "code",
   "execution_count": 96,
   "metadata": {},
   "outputs": [
    {
     "name": "stdout",
     "output_type": "stream",
     "text": [
      "food\n",
      "testing data accuracy: 0.8133333333333334\n",
      "Classification report for testing data :\n",
      "              precision    recall  f1-score   support\n",
      "\n",
      "         0.0       0.40      0.15      0.22        13\n",
      "         1.0       0.84      0.95      0.89        62\n",
      "\n",
      "   micro avg       0.81      0.81      0.81        75\n",
      "   macro avg       0.62      0.55      0.56        75\n",
      "weighted avg       0.77      0.81      0.78        75\n",
      "\n",
      "ambience\n",
      "testing data accuracy: 0.8387096774193549\n",
      "Classification report for testing data :\n",
      "              precision    recall  f1-score   support\n",
      "\n",
      "         0.0       0.00      0.00      0.00         4\n",
      "         1.0       0.87      0.96      0.91        27\n",
      "\n",
      "   micro avg       0.84      0.84      0.84        31\n",
      "   macro avg       0.43      0.48      0.46        31\n",
      "weighted avg       0.75      0.84      0.79        31\n",
      "\n",
      "service\n",
      "testing data accuracy: 0.64\n",
      "Classification report for testing data :\n",
      "              precision    recall  f1-score   support\n",
      "\n",
      "         0.0       0.17      0.07      0.10        14\n",
      "         1.0       0.70      0.86      0.78        36\n",
      "\n",
      "   micro avg       0.64      0.64      0.64        50\n",
      "   macro avg       0.44      0.47      0.44        50\n",
      "weighted avg       0.55      0.64      0.59        50\n",
      "\n",
      "price\n",
      "testing data accuracy: 0.6666666666666666\n",
      "Classification report for testing data :\n",
      "              precision    recall  f1-score   support\n",
      "\n",
      "         0.0       0.00      0.00      0.00         7\n",
      "         1.0       0.70      0.94      0.80        17\n",
      "\n",
      "   micro avg       0.67      0.67      0.67        24\n",
      "   macro avg       0.35      0.47      0.40        24\n",
      "weighted avg       0.49      0.67      0.57        24\n",
      "\n"
     ]
    }
   ],
   "source": [
    "print('food')\n",
    "naive_bayes(food_txt, food_label)\n",
    "print('ambience')\n",
    "naive_bayes(ambience_txt, ambience_label)\n",
    "print('service')\n",
    "naive_bayes(service_txt, service_label)\n",
    "print('price')\n",
    "naive_bayes(price_txt, price_label)"
   ]
  },
  {
   "cell_type": "code",
   "execution_count": null,
   "metadata": {},
   "outputs": [],
   "source": []
  }
 ],
 "metadata": {
  "kernelspec": {
   "display_name": "Python 3",
   "language": "python",
   "name": "python3"
  },
  "language_info": {
   "codemirror_mode": {
    "name": "ipython",
    "version": 3
   },
   "file_extension": ".py",
   "mimetype": "text/x-python",
   "name": "python",
   "nbconvert_exporter": "python",
   "pygments_lexer": "ipython3",
   "version": "3.7.3"
  }
 },
 "nbformat": 4,
 "nbformat_minor": 2
}
