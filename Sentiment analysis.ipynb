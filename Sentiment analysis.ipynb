{
 "cells": [
  {
   "cell_type": "code",
   "execution_count": 1,
   "metadata": {},
   "outputs": [],
   "source": [
    "%matplotlib inline\n",
    "import re\n",
    "import matplotlib\n",
    "import numpy as np\n",
    "import matplotlib.pyplot as plt\n",
    "import pandas as pd\n",
    "import warnings\n",
    "warnings.filterwarnings(\"ignore\")\n",
    "from sklearn.model_selection import train_test_split\n",
    "from sklearn.feature_extraction.text import TfidfVectorizer\n",
    "from sklearn.naive_bayes import MultinomialNB\n",
    "from sklearn.metrics import accuracy_score\n",
    "from sklearn.multiclass import OneVsRestClassifier\n",
    "from nltk.corpus import stopwords\n",
    "stop_words = set(stopwords.words('english'))\n",
    "from sklearn.svm import LinearSVC\n",
    "from sklearn.linear_model import LogisticRegression\n",
    "from sklearn.pipeline import Pipeline\n",
    "import seaborn as sns\n",
    "df = pd.read_csv(\"data/tagged category data.csv\", encoding = \"ISO-8859-1\")\n",
    "df.head()\n",
    "df2 = pd.read_csv(\"data/tagged category data.csv\", encoding = \"ISO-8859-1\")\n",
    "sentiment_df = pd.read_csv(\"data/sentiment annotation data.csv\", encoding = \"ISO-8859-1\")\n",
    "sentiment_df.set_index('review_id', inplace=True)"
   ]
  },
  {
   "cell_type": "code",
   "execution_count": 18,
   "metadata": {},
   "outputs": [
    {
     "name": "stdout",
     "output_type": "stream",
     "text": [
      "showing info https://raw.githubusercontent.com/nltk/nltk_data/gh-pages/index.xml\n"
     ]
    },
    {
     "data": {
      "text/plain": [
       "True"
      ]
     },
     "execution_count": 18,
     "metadata": {},
     "output_type": "execute_result"
    }
   ],
   "source": [
    "import nltk\n",
    "nltk.download()"
   ]
  },
  {
   "cell_type": "code",
   "execution_count": 2,
   "metadata": {},
   "outputs": [],
   "source": [
    "#no stop word\n",
    "def clean_text(text):\n",
    "    text = text.lower()\n",
    "    text = re.sub(r\"what's\", \"what is \", text)\n",
    "    text = re.sub(r\"\\'s\", \" \", text)\n",
    "    text = re.sub(r\"\\'ve\", \" have \", text)\n",
    "    text = re.sub(r\"can't\", \"can not \", text)\n",
    "    text = re.sub(r\"n't\", \" not \", text)\n",
    "    text = re.sub(r\"i'm\", \"i am \", text)\n",
    "    text = re.sub(r\"\\'re\", \" are \", text)\n",
    "    text = re.sub(r\"\\'d\", \" would \", text)\n",
    "    text = re.sub(r\"\\'ll\", \" will \", text)\n",
    "    text = re.sub(r\"\\'scuse\", \" excuse \", text)\n",
    "    text = re.sub('\\W', ' ', text)\n",
    "    text = re.sub('\\s+', ' ', text)\n",
    "    text = text.strip(' ')\n",
    "    return text"
   ]
  },
  {
   "cell_type": "code",
   "execution_count": 3,
   "metadata": {},
   "outputs": [],
   "source": [
    "df['text'] = df['text'].map(lambda com : clean_text(com))"
   ]
  },
  {
   "cell_type": "code",
   "execution_count": 4,
   "metadata": {},
   "outputs": [],
   "source": [
    "#stop word filter\n",
    "from gensim import utils\n",
    "import gensim.parsing.preprocessing as gsp\n",
    "\n",
    "filters = [\n",
    "           gsp.strip_tags, \n",
    "           gsp.strip_punctuation,\n",
    "           gsp.strip_multiple_whitespaces,\n",
    "           gsp.strip_numeric,\n",
    "           gsp.remove_stopwords, \n",
    "           gsp.strip_short, \n",
    "           gsp.stem_text\n",
    "          ]\n",
    "\n",
    "def clean_text_2(s):\n",
    "    s = s.lower()\n",
    "    s = utils.to_unicode(s)\n",
    "    for f in filters:\n",
    "        s = f(s)\n",
    "    return s"
   ]
  },
  {
   "cell_type": "code",
   "execution_count": 5,
   "metadata": {},
   "outputs": [],
   "source": [
    "df['text'] = df['text'].map(lambda com : clean_text_2(com))"
   ]
  },
  {
   "cell_type": "code",
   "execution_count": 6,
   "metadata": {},
   "outputs": [],
   "source": [
    "def extract_sentiment(category):  \n",
    "    review_ids = []\n",
    "    for i in range(len(df2[category])): #food\n",
    "        if df2[category][i] == 1:\n",
    "            review_ids.append(df2['review_id'][i])\n",
    "    print(len(review_ids))\n",
    "\n",
    "    drop_list = []\n",
    "    for item in df2['review_id']:\n",
    "        if item not in review_ids:\n",
    "            drop_list.append(item)\n",
    "    new_df = sentiment_df[['text','%s_pos'%category]]\n",
    "    new_df.drop(drop_list, inplace = True)    \n",
    "    return new_df"
   ]
  },
  {
   "cell_type": "code",
   "execution_count": 7,
   "metadata": {},
   "outputs": [
    {
     "name": "stdout",
     "output_type": "stream",
     "text": [
      "372\n"
     ]
    },
    {
     "data": {
      "text/html": [
       "<div>\n",
       "<style scoped>\n",
       "    .dataframe tbody tr th:only-of-type {\n",
       "        vertical-align: middle;\n",
       "    }\n",
       "\n",
       "    .dataframe tbody tr th {\n",
       "        vertical-align: top;\n",
       "    }\n",
       "\n",
       "    .dataframe thead th {\n",
       "        text-align: right;\n",
       "    }\n",
       "</style>\n",
       "<table border=\"1\" class=\"dataframe\">\n",
       "  <thead>\n",
       "    <tr style=\"text-align: right;\">\n",
       "      <th></th>\n",
       "      <th>text</th>\n",
       "      <th>food_pos</th>\n",
       "    </tr>\n",
       "    <tr>\n",
       "      <th>review_id</th>\n",
       "      <th></th>\n",
       "      <th></th>\n",
       "    </tr>\n",
       "  </thead>\n",
       "  <tbody>\n",
       "    <tr>\n",
       "      <th>yi0R0Ugj_xUx_Nek0-_Qig</th>\n",
       "      <td>Went in for a lunch. Steak sandwich was delici...</td>\n",
       "      <td>1.0</td>\n",
       "    </tr>\n",
       "    <tr>\n",
       "      <th>fdiNeiN_hoCxCMy2wTRW9g</th>\n",
       "      <td>I'll be the first to admit that I was not exci...</td>\n",
       "      <td>1.0</td>\n",
       "    </tr>\n",
       "    <tr>\n",
       "      <th>G7XHMxG0bx9oBJNECG4IFg</th>\n",
       "      <td>Tracy dessert had a big name in Hong Kong and ...</td>\n",
       "      <td>1.0</td>\n",
       "    </tr>\n",
       "    <tr>\n",
       "      <th>8e9HxxLjjqc9ez5ezzN7iQ</th>\n",
       "      <td>This place has gone down hill.Clearly they hav...</td>\n",
       "      <td>0.0</td>\n",
       "    </tr>\n",
       "    <tr>\n",
       "      <th>Z7wgXp98wYB57QdRY3HQ3w</th>\n",
       "      <td>Wow. So surprised at the one and two star revi...</td>\n",
       "      <td>1.0</td>\n",
       "    </tr>\n",
       "  </tbody>\n",
       "</table>\n",
       "</div>"
      ],
      "text/plain": [
       "                                                                     text  \\\n",
       "review_id                                                                   \n",
       "yi0R0Ugj_xUx_Nek0-_Qig  Went in for a lunch. Steak sandwich was delici...   \n",
       "fdiNeiN_hoCxCMy2wTRW9g  I'll be the first to admit that I was not exci...   \n",
       "G7XHMxG0bx9oBJNECG4IFg  Tracy dessert had a big name in Hong Kong and ...   \n",
       "8e9HxxLjjqc9ez5ezzN7iQ  This place has gone down hill.Clearly they hav...   \n",
       "Z7wgXp98wYB57QdRY3HQ3w  Wow. So surprised at the one and two star revi...   \n",
       "\n",
       "                        food_pos  \n",
       "review_id                         \n",
       "yi0R0Ugj_xUx_Nek0-_Qig       1.0  \n",
       "fdiNeiN_hoCxCMy2wTRW9g       1.0  \n",
       "G7XHMxG0bx9oBJNECG4IFg       1.0  \n",
       "8e9HxxLjjqc9ez5ezzN7iQ       0.0  \n",
       "Z7wgXp98wYB57QdRY3HQ3w       1.0  "
      ]
     },
     "execution_count": 7,
     "metadata": {},
     "output_type": "execute_result"
    }
   ],
   "source": [
    "categories = ['food', 'ambience', 'service', 'price']\n",
    "food_df = extract_sentiment(categories[0])\n",
    "food_df.head()"
   ]
  },
  {
   "cell_type": "code",
   "execution_count": 8,
   "metadata": {},
   "outputs": [],
   "source": [
    "food_df['text'] = food_df['text'].map(lambda com : clean_text(com))"
   ]
  },
  {
   "cell_type": "code",
   "execution_count": 9,
   "metadata": {},
   "outputs": [],
   "source": [
    "from sklearn.utils import resample\n",
    "\n",
    "def upsample(df):\n",
    "    df.fillna(0,inplace = True)\n",
    "    majority = int(df.iloc[:,1].values.sum())\n",
    "    # Separate majority and minority classes\n",
    "    df_majority = df[df.iloc[:,1]==1]\n",
    "    df_minority = df[df.iloc[:,1]==0]\n",
    "    # Upsample minority class\n",
    "    df_minority_upsampled = resample(df_minority, \n",
    "                                     replace=True,     # sample with replacement\n",
    "                                     n_samples=majority,    # to match majority class\n",
    "                                     random_state=123) # reproducible results\n",
    "\n",
    "    # Combine majority class with upsampled minority class\n",
    "    upsampled = pd.concat([df_majority, df_minority_upsampled])\n",
    "    return upsampled\n",
    "\n"
   ]
  },
  {
   "cell_type": "code",
   "execution_count": 10,
   "metadata": {},
   "outputs": [
    {
     "name": "stdout",
     "output_type": "stream",
     "text": [
      "153\n"
     ]
    },
    {
     "data": {
      "text/html": [
       "<div>\n",
       "<style scoped>\n",
       "    .dataframe tbody tr th:only-of-type {\n",
       "        vertical-align: middle;\n",
       "    }\n",
       "\n",
       "    .dataframe tbody tr th {\n",
       "        vertical-align: top;\n",
       "    }\n",
       "\n",
       "    .dataframe thead th {\n",
       "        text-align: right;\n",
       "    }\n",
       "</style>\n",
       "<table border=\"1\" class=\"dataframe\">\n",
       "  <thead>\n",
       "    <tr style=\"text-align: right;\">\n",
       "      <th></th>\n",
       "      <th>text</th>\n",
       "      <th>ambience_pos</th>\n",
       "    </tr>\n",
       "    <tr>\n",
       "      <th>review_id</th>\n",
       "      <th></th>\n",
       "      <th></th>\n",
       "    </tr>\n",
       "  </thead>\n",
       "  <tbody>\n",
       "    <tr>\n",
       "      <th>fdiNeiN_hoCxCMy2wTRW9g</th>\n",
       "      <td>I'll be the first to admit that I was not exci...</td>\n",
       "      <td>0.0</td>\n",
       "    </tr>\n",
       "    <tr>\n",
       "      <th>G7XHMxG0bx9oBJNECG4IFg</th>\n",
       "      <td>Tracy dessert had a big name in Hong Kong and ...</td>\n",
       "      <td>1.0</td>\n",
       "    </tr>\n",
       "    <tr>\n",
       "      <th>Z7wgXp98wYB57QdRY3HQ3w</th>\n",
       "      <td>Wow. So surprised at the one and two star revi...</td>\n",
       "      <td>1.0</td>\n",
       "    </tr>\n",
       "    <tr>\n",
       "      <th>1wVA2-vQIuW_ClmXkDxqMQ</th>\n",
       "      <td>Great lunch today. Staff was very helpful in a...</td>\n",
       "      <td>1.0</td>\n",
       "    </tr>\n",
       "    <tr>\n",
       "      <th>6BnQwlxRn7ZuWdzninM9sQ</th>\n",
       "      <td>I love chinese food and I love mexican food. W...</td>\n",
       "      <td>0.0</td>\n",
       "    </tr>\n",
       "  </tbody>\n",
       "</table>\n",
       "</div>"
      ],
      "text/plain": [
       "                                                                     text  \\\n",
       "review_id                                                                   \n",
       "fdiNeiN_hoCxCMy2wTRW9g  I'll be the first to admit that I was not exci...   \n",
       "G7XHMxG0bx9oBJNECG4IFg  Tracy dessert had a big name in Hong Kong and ...   \n",
       "Z7wgXp98wYB57QdRY3HQ3w  Wow. So surprised at the one and two star revi...   \n",
       "1wVA2-vQIuW_ClmXkDxqMQ  Great lunch today. Staff was very helpful in a...   \n",
       "6BnQwlxRn7ZuWdzninM9sQ  I love chinese food and I love mexican food. W...   \n",
       "\n",
       "                        ambience_pos  \n",
       "review_id                             \n",
       "fdiNeiN_hoCxCMy2wTRW9g           0.0  \n",
       "G7XHMxG0bx9oBJNECG4IFg           1.0  \n",
       "Z7wgXp98wYB57QdRY3HQ3w           1.0  \n",
       "1wVA2-vQIuW_ClmXkDxqMQ           1.0  \n",
       "6BnQwlxRn7ZuWdzninM9sQ           0.0  "
      ]
     },
     "execution_count": 10,
     "metadata": {},
     "output_type": "execute_result"
    }
   ],
   "source": [
    "ambience_df = extract_sentiment(categories[1])\n",
    "ambience_df.head()"
   ]
  },
  {
   "cell_type": "code",
   "execution_count": 11,
   "metadata": {},
   "outputs": [
    {
     "data": {
      "text/plain": [
       "text            Tracy dessert had a big name in Hong Kong and ...\n",
       "ambience_pos                                                  125\n",
       "dtype: object"
      ]
     },
     "execution_count": 11,
     "metadata": {},
     "output_type": "execute_result"
    }
   ],
   "source": [
    "ambience_df[ambience_df['ambience_pos'] == 1].sum()"
   ]
  },
  {
   "cell_type": "code",
   "execution_count": 12,
   "metadata": {},
   "outputs": [],
   "source": [
    "ambience_df['text'] = ambience_df['text'].map(lambda com : clean_text(com))"
   ]
  },
  {
   "cell_type": "code",
   "execution_count": 13,
   "metadata": {},
   "outputs": [
    {
     "name": "stdout",
     "output_type": "stream",
     "text": [
      "248\n"
     ]
    },
    {
     "data": {
      "text/html": [
       "<div>\n",
       "<style scoped>\n",
       "    .dataframe tbody tr th:only-of-type {\n",
       "        vertical-align: middle;\n",
       "    }\n",
       "\n",
       "    .dataframe tbody tr th {\n",
       "        vertical-align: top;\n",
       "    }\n",
       "\n",
       "    .dataframe thead th {\n",
       "        text-align: right;\n",
       "    }\n",
       "</style>\n",
       "<table border=\"1\" class=\"dataframe\">\n",
       "  <thead>\n",
       "    <tr style=\"text-align: right;\">\n",
       "      <th></th>\n",
       "      <th>text</th>\n",
       "      <th>service_pos</th>\n",
       "    </tr>\n",
       "    <tr>\n",
       "      <th>review_id</th>\n",
       "      <th></th>\n",
       "      <th></th>\n",
       "    </tr>\n",
       "  </thead>\n",
       "  <tbody>\n",
       "    <tr>\n",
       "      <th>yi0R0Ugj_xUx_Nek0-_Qig</th>\n",
       "      <td>Went in for a lunch. Steak sandwich was delici...</td>\n",
       "      <td>1.0</td>\n",
       "    </tr>\n",
       "    <tr>\n",
       "      <th>fdiNeiN_hoCxCMy2wTRW9g</th>\n",
       "      <td>I'll be the first to admit that I was not exci...</td>\n",
       "      <td>0.0</td>\n",
       "    </tr>\n",
       "    <tr>\n",
       "      <th>8e9HxxLjjqc9ez5ezzN7iQ</th>\n",
       "      <td>This place has gone down hill.Clearly they hav...</td>\n",
       "      <td>0.0</td>\n",
       "    </tr>\n",
       "    <tr>\n",
       "      <th>-I5umRTkhw15RqpKMl_o1Q</th>\n",
       "      <td>Walked in around 4 on a Friday afternoon, we s...</td>\n",
       "      <td>0.0</td>\n",
       "    </tr>\n",
       "    <tr>\n",
       "      <th>Z7wgXp98wYB57QdRY3HQ3w</th>\n",
       "      <td>Wow. So surprised at the one and two star revi...</td>\n",
       "      <td>1.0</td>\n",
       "    </tr>\n",
       "  </tbody>\n",
       "</table>\n",
       "</div>"
      ],
      "text/plain": [
       "                                                                     text  \\\n",
       "review_id                                                                   \n",
       "yi0R0Ugj_xUx_Nek0-_Qig  Went in for a lunch. Steak sandwich was delici...   \n",
       "fdiNeiN_hoCxCMy2wTRW9g  I'll be the first to admit that I was not exci...   \n",
       "8e9HxxLjjqc9ez5ezzN7iQ  This place has gone down hill.Clearly they hav...   \n",
       "-I5umRTkhw15RqpKMl_o1Q  Walked in around 4 on a Friday afternoon, we s...   \n",
       "Z7wgXp98wYB57QdRY3HQ3w  Wow. So surprised at the one and two star revi...   \n",
       "\n",
       "                        service_pos  \n",
       "review_id                            \n",
       "yi0R0Ugj_xUx_Nek0-_Qig          1.0  \n",
       "fdiNeiN_hoCxCMy2wTRW9g          0.0  \n",
       "8e9HxxLjjqc9ez5ezzN7iQ          0.0  \n",
       "-I5umRTkhw15RqpKMl_o1Q          0.0  \n",
       "Z7wgXp98wYB57QdRY3HQ3w          1.0  "
      ]
     },
     "execution_count": 13,
     "metadata": {},
     "output_type": "execute_result"
    }
   ],
   "source": [
    "service_df = extract_sentiment(categories[2])\n",
    "service_df.head()"
   ]
  },
  {
   "cell_type": "code",
   "execution_count": 14,
   "metadata": {},
   "outputs": [],
   "source": [
    "service_df['text'] = service_df['text'].map(lambda com : clean_text(com))"
   ]
  },
  {
   "cell_type": "code",
   "execution_count": 15,
   "metadata": {},
   "outputs": [
    {
     "name": "stdout",
     "output_type": "stream",
     "text": [
      "116\n"
     ]
    },
    {
     "data": {
      "text/html": [
       "<div>\n",
       "<style scoped>\n",
       "    .dataframe tbody tr th:only-of-type {\n",
       "        vertical-align: middle;\n",
       "    }\n",
       "\n",
       "    .dataframe tbody tr th {\n",
       "        vertical-align: top;\n",
       "    }\n",
       "\n",
       "    .dataframe thead th {\n",
       "        text-align: right;\n",
       "    }\n",
       "</style>\n",
       "<table border=\"1\" class=\"dataframe\">\n",
       "  <thead>\n",
       "    <tr style=\"text-align: right;\">\n",
       "      <th></th>\n",
       "      <th>text</th>\n",
       "      <th>price_pos</th>\n",
       "    </tr>\n",
       "    <tr>\n",
       "      <th>review_id</th>\n",
       "      <th></th>\n",
       "      <th></th>\n",
       "    </tr>\n",
       "  </thead>\n",
       "  <tbody>\n",
       "    <tr>\n",
       "      <th>yi0R0Ugj_xUx_Nek0-_Qig</th>\n",
       "      <td>Went in for a lunch. Steak sandwich was delici...</td>\n",
       "      <td>1.0</td>\n",
       "    </tr>\n",
       "    <tr>\n",
       "      <th>fdiNeiN_hoCxCMy2wTRW9g</th>\n",
       "      <td>I'll be the first to admit that I was not exci...</td>\n",
       "      <td>1.0</td>\n",
       "    </tr>\n",
       "    <tr>\n",
       "      <th>G7XHMxG0bx9oBJNECG4IFg</th>\n",
       "      <td>Tracy dessert had a big name in Hong Kong and ...</td>\n",
       "      <td>0.0</td>\n",
       "    </tr>\n",
       "    <tr>\n",
       "      <th>8e9HxxLjjqc9ez5ezzN7iQ</th>\n",
       "      <td>This place has gone down hill.Clearly they hav...</td>\n",
       "      <td>0.0</td>\n",
       "    </tr>\n",
       "    <tr>\n",
       "      <th>kbtscdyz6lvrtGjD1quQTg</th>\n",
       "      <td>Like walking back in time, every Saturday morn...</td>\n",
       "      <td>1.0</td>\n",
       "    </tr>\n",
       "  </tbody>\n",
       "</table>\n",
       "</div>"
      ],
      "text/plain": [
       "                                                                     text  \\\n",
       "review_id                                                                   \n",
       "yi0R0Ugj_xUx_Nek0-_Qig  Went in for a lunch. Steak sandwich was delici...   \n",
       "fdiNeiN_hoCxCMy2wTRW9g  I'll be the first to admit that I was not exci...   \n",
       "G7XHMxG0bx9oBJNECG4IFg  Tracy dessert had a big name in Hong Kong and ...   \n",
       "8e9HxxLjjqc9ez5ezzN7iQ  This place has gone down hill.Clearly they hav...   \n",
       "kbtscdyz6lvrtGjD1quQTg  Like walking back in time, every Saturday morn...   \n",
       "\n",
       "                        price_pos  \n",
       "review_id                          \n",
       "yi0R0Ugj_xUx_Nek0-_Qig        1.0  \n",
       "fdiNeiN_hoCxCMy2wTRW9g        1.0  \n",
       "G7XHMxG0bx9oBJNECG4IFg        0.0  \n",
       "8e9HxxLjjqc9ez5ezzN7iQ        0.0  \n",
       "kbtscdyz6lvrtGjD1quQTg        1.0  "
      ]
     },
     "execution_count": 15,
     "metadata": {},
     "output_type": "execute_result"
    }
   ],
   "source": [
    "price_df = extract_sentiment(categories[3])\n",
    "price_df.head()"
   ]
  },
  {
   "cell_type": "code",
   "execution_count": 16,
   "metadata": {},
   "outputs": [],
   "source": [
    "price_df['text'] = price_df['text'].map(lambda com : clean_text(com))"
   ]
  },
  {
   "cell_type": "code",
   "execution_count": 115,
   "metadata": {},
   "outputs": [],
   "source": [
    "# df_toxic = df.drop(['review_id', 'text','stars'], axis=1)\n",
    "# counts = []\n",
    "# categories = ['food', 'ambience', 'service', 'price']\n",
    "# for i in categories:\n",
    "#     counts.append((i, df_toxic[i].sum()))\n",
    "# df_stats = pd.DataFrame(counts, columns=['category', 'number_of_comments'])\n",
    "# df_stats\n",
    "\n",
    "# df_stats.plot(x='category', y='number_of_comments', kind='bar', legend=False, grid=True, figsize=(8, 5))\n",
    "# plt.title(\"Number of reviews per category\")\n",
    "# plt.ylabel('# of reviews', fontsize=12)\n",
    "# plt.xlabel('category', fontsize=12)"
   ]
  },
  {
   "cell_type": "code",
   "execution_count": 17,
   "metadata": {},
   "outputs": [
    {
     "name": "stderr",
     "output_type": "stream",
     "text": [
      "Using TensorFlow backend.\n"
     ]
    }
   ],
   "source": [
    "from nltk.corpus import stopwords\n",
    "from numpy import array\n",
    "from keras.preprocessing.text import one_hot\n",
    "from keras.preprocessing.text import Tokenizer\n",
    "from keras.preprocessing.sequence import pad_sequences\n",
    "from keras.models import Sequential\n",
    "from keras.layers.core import Activation, Dropout, Dense, Dropout\n",
    "from keras.layers import Flatten,Conv1D,LSTM, MaxPooling1D\n",
    "from keras.layers import GlobalMaxPooling1D\n",
    "from keras.layers.embeddings import Embedding\n",
    "from sklearn.metrics import confusion_matrix\n",
    "from sklearn.metrics import classification_report\n",
    "from sklearn.metrics import roc_curve, auc"
   ]
  },
  {
   "cell_type": "code",
   "execution_count": 18,
   "metadata": {},
   "outputs": [],
   "source": [
    "food_balanced = upsample(food_df)\n",
    "ambience_balanced = upsample(ambience_df)\n",
    "service_balanced = upsample(service_df)\n",
    "price_balanced = upsample(price_df)"
   ]
  },
  {
   "cell_type": "code",
   "execution_count": 338,
   "metadata": {},
   "outputs": [],
   "source": [
    "# def preprocess_text(sen):\n",
    "#     # Removing html tags\n",
    "#     sentence = remove_tags(sen)\n",
    "\n",
    "#     # Remove punctuations and numbers\n",
    "#     sentence = re.sub('[^a-zA-Z]', ' ', sentence)\n",
    "\n",
    "#     # Single character removal\n",
    "#     sentence = re.sub(r\"\\s+[a-zA-Z]\\s+\", ' ', sentence)\n",
    "\n",
    "#     # Removing multiple spaces\n",
    "#     sentence = re.sub(r'\\s+', ' ', sentence)\n",
    "\n",
    "#     return sentence\n",
    "# TAG_RE = re.compile(r'<[^>]+>')\n",
    "\n",
    "# def remove_tags(text):\n",
    "#     return TAG_RE.sub('', text)\n",
    "\n"
   ]
  },
  {
   "cell_type": "code",
   "execution_count": 121,
   "metadata": {},
   "outputs": [],
   "source": [
    "X = []\n",
    "sentences = list(price_balanced['text'])\n",
    "for sen in sentences:\n",
    "    X.append(sen)\n",
    "sentiments =price_balanced.iloc[:,1].values\n",
    "X_train, X_test, y_train, y_test = train_test_split(X, sentiments, test_size=0.2, random_state=45)"
   ]
  },
  {
   "cell_type": "code",
   "execution_count": 122,
   "metadata": {},
   "outputs": [],
   "source": [
    "#API embedding\n",
    "tokenizer = Tokenizer(num_words=5000)\n",
    "tokenizer.fit_on_texts(X_train)\n",
    "\n",
    "X_train = tokenizer.texts_to_sequences(X_train)\n",
    "X_test = tokenizer.texts_to_sequences(X_test)\n",
    "# Adding 1 because of reserved 0 index\n",
    "vocab_size = len(tokenizer.word_index) + 1\n",
    "\n",
    "maxlen = 50\n",
    "\n",
    "X_train = pad_sequences(X_train, padding='post', maxlen=maxlen)\n",
    "X_test = pad_sequences(X_test, padding='post', maxlen=maxlen)"
   ]
  },
  {
   "cell_type": "code",
   "execution_count": 123,
   "metadata": {},
   "outputs": [],
   "source": [
    "#pretraind embeddings\n",
    "from numpy import array\n",
    "from numpy import asarray\n",
    "from numpy import zeros\n",
    "\n",
    "embeddings_dictionary = dict()\n",
    "glove_file = open('embeddings/glove.6B/glove.6B.200d.txt', encoding=\"utf8\")\n",
    "\n",
    "for line in glove_file:\n",
    "    records = line.split()\n",
    "    word = records[0]\n",
    "    vector_dimensions = asarray(records[1:], dtype='float32')\n",
    "    embeddings_dictionary [word] = vector_dimensions\n",
    "glove_file.close()\n",
    "\n",
    "embedding_matrix = zeros((vocab_size, 200))\n",
    "for word, index in tokenizer.word_index.items():\n",
    "    embedding_vector = embeddings_dictionary.get(word)\n",
    "    if embedding_vector is not None:\n",
    "        embedding_matrix[index] = embedding_vector"
   ]
  },
  {
   "cell_type": "code",
   "execution_count": 78,
   "metadata": {},
   "outputs": [],
   "source": [
    "#word embedding from document\n",
    "\n",
    "#max_length = max([len(s.split()) for s in X_train])\n",
    "\n",
    "\n",
    "word_tokenizer = Tokenizer()\n",
    "word_tokenizer.fit_on_texts(X_train)\n",
    "\n",
    "X_train = tokenizer.texts_to_sequences(X_train)\n",
    "X_test = tokenizer.texts_to_sequences(X_test)\n",
    "\n",
    "vocab_size = len(word_tokenizer.word_index) + 1\n",
    "#embedded_sentences = word_tokenizer.texts_to_sequences(X_train)\n",
    "\n",
    "# word_count = lambda sentence: len(word_tokenize(sentence))\n",
    "# longest_sentence = max(X_train, key=word_count)\n",
    "# max_length = len(word_tokenize(longest_sentence))\n",
    "\n",
    "\n",
    "X_train = pad_sequences(X_train,30, padding='post')\n",
    "X_test = pad_sequences(X_test, 30, padding='post')\n"
   ]
  },
  {
   "cell_type": "code",
   "execution_count": 89,
   "metadata": {},
   "outputs": [
    {
     "name": "stdout",
     "output_type": "stream",
     "text": [
      "Model: \"sequential_39\"\n",
      "_________________________________________________________________\n",
      "Layer (type)                 Output Shape              Param #   \n",
      "=================================================================\n",
      "embedding_37 (Embedding)     (None, 30, 200)           451200    \n",
      "_________________________________________________________________\n",
      "conv1d_17 (Conv1D)           (None, 23, 32)            51232     \n",
      "_________________________________________________________________\n",
      "flatten_25 (Flatten)         (None, 736)               0         \n",
      "_________________________________________________________________\n",
      "dense_35 (Dense)             (None, 1)                 737       \n",
      "=================================================================\n",
      "Total params: 503,169\n",
      "Trainable params: 503,169\n",
      "Non-trainable params: 0\n",
      "_________________________________________________________________\n",
      "None\n",
      "Train on 96 samples, validate on 25 samples\n",
      "Epoch 1/6\n",
      "96/96 [==============================] - 11s 114ms/step - loss: 0.6913 - acc: 0.5625 - f1_m: 0.6163 - precision_m: 0.5962 - recall_m: 0.6594 - val_loss: 0.6747 - val_acc: 0.7600 - val_f1_m: 0.7692 - val_precision_m: 0.9091 - val_recall_m: 0.6667\n",
      "Epoch 2/6\n",
      "96/96 [==============================] - 0s 4ms/step - loss: 0.6368 - acc: 1.0000 - f1_m: 1.0000 - precision_m: 1.0000 - recall_m: 1.0000 - val_loss: 0.6603 - val_acc: 0.7200 - val_f1_m: 0.7200 - val_precision_m: 0.9000 - val_recall_m: 0.6000\n",
      "Epoch 3/6\n",
      "96/96 [==============================] - 1s 5ms/step - loss: 0.5905 - acc: 1.0000 - f1_m: 1.0000 - precision_m: 1.0000 - recall_m: 1.0000 - val_loss: 0.6457 - val_acc: 0.7200 - val_f1_m: 0.7200 - val_precision_m: 0.9000 - val_recall_m: 0.6000\n",
      "Epoch 4/6\n",
      "96/96 [==============================] - 1s 5ms/step - loss: 0.5447 - acc: 1.0000 - f1_m: 1.0000 - precision_m: 1.0000 - recall_m: 1.0000 - val_loss: 0.6302 - val_acc: 0.7200 - val_f1_m: 0.7200 - val_precision_m: 0.9000 - val_recall_m: 0.6000\n",
      "Epoch 5/6\n",
      "96/96 [==============================] - 1s 6ms/step - loss: 0.4991 - acc: 1.0000 - f1_m: 1.0000 - precision_m: 1.0000 - recall_m: 1.0000 - val_loss: 0.6135 - val_acc: 0.7200 - val_f1_m: 0.7200 - val_precision_m: 0.9000 - val_recall_m: 0.6000\n",
      "Epoch 6/6\n",
      "96/96 [==============================] - 0s 5ms/step - loss: 0.4515 - acc: 1.0000 - f1_m: 1.0000 - precision_m: 1.0000 - recall_m: 1.0000 - val_loss: 0.5954 - val_acc: 0.7200 - val_f1_m: 0.7200 - val_precision_m: 0.9000 - val_recall_m: 0.6000\n",
      "loss 0.6015946865081787 accuracy 0.6774193644523621 f1 0.6428570747375488 precision 0.6428571343421936 recall 0.6428571343421936 Test Score: 0.6015946865081787 Test Accuracy: 0.6774193644523621\n"
     ]
    },
    {
     "data": {
      "image/png": "[encoded data removed]",
      "text/plain": [
       "<Figure size 432x288 with 1 Axes>"
      ]
     },
     "metadata": {
      "needs_background": "light"
     },
     "output_type": "display_data"
    },
    {
     "data": {
      "image/png": "[encoded data removed]",
      "text/plain": [
       "<Figure size 432x288 with 1 Axes>"
      ]
     },
     "metadata": {
      "needs_background": "light"
     },
     "output_type": "display_data"
    }
   ],
   "source": [
    "#CNN\n",
    "# define model\n",
    "model = Sequential()\n",
    "model.add(Embedding(vocab_size, 200, input_length=30))\n",
    "model.add(Conv1D(filters=32, kernel_size=8, activation='relu'))\n",
    "# model.add(MaxPooling1D(pool_size=2))\n",
    "# model.add(Dense(256, activation='relu', input_shape=(n_cols,)))\n",
    "# model.add(Dense(128, activation='relu'))\n",
    "# model.add(Dropout(0.2))\n",
    "\n",
    "# model.add(Dense(10, activation='relu'))\n",
    "model.add(Flatten())\n",
    "model.add(Dense(1, activation='sigmoid'))\n",
    "\n",
    "model.compile(loss='binary_crossentropy', optimizer='adam', metrics=['acc',f1_m,precision_m, recall_m])\n",
    "print(model.summary())\n",
    "# fit network\n",
    "test_model(model)\n",
    "\n",
    "\n",
    "\n"
   ]
  },
  {
   "cell_type": "code",
   "execution_count": 88,
   "metadata": {},
   "outputs": [
    {
     "name": "stdout",
     "output_type": "stream",
     "text": [
      "Model: \"sequential_38\"\n",
      "_________________________________________________________________\n",
      "Layer (type)                 Output Shape              Param #   \n",
      "=================================================================\n",
      "embedding_36 (Embedding)     (None, 30, 200)           451200    \n",
      "_________________________________________________________________\n",
      "lstm_11 (LSTM)               (None, 128)               168448    \n",
      "_________________________________________________________________\n",
      "dense_34 (Dense)             (None, 1)                 129       \n",
      "=================================================================\n",
      "Total params: 619,777\n",
      "Trainable params: 619,777\n",
      "Non-trainable params: 0\n",
      "_________________________________________________________________\n",
      "None\n",
      "Train on 96 samples, validate on 25 samples\n",
      "Epoch 1/6\n",
      "96/96 [==============================] - 9s 99ms/step - loss: 0.6934 - acc: 0.5208 - f1_m: 0.5194 - precision_m: 0.5008 - recall_m: 0.5814 - val_loss: 0.6885 - val_acc: 0.6400 - val_f1_m: 0.6400 - val_precision_m: 0.8000 - val_recall_m: 0.5333\n",
      "Epoch 2/6\n",
      "96/96 [==============================] - 1s 10ms/step - loss: 0.6819 - acc: 0.8854 - f1_m: 0.8858 - precision_m: 0.9242 - recall_m: 0.8579 - val_loss: 0.6847 - val_acc: 0.5600 - val_f1_m: 0.4211 - val_precision_m: 1.0000 - val_recall_m: 0.2667\n",
      "Epoch 3/6\n",
      "96/96 [==============================] - 1s 10ms/step - loss: 0.6684 - acc: 0.9167 - f1_m: 0.9059 - precision_m: 0.9821 - recall_m: 0.8417 - val_loss: 0.6787 - val_acc: 0.4800 - val_f1_m: 0.2353 - val_precision_m: 1.0000 - val_recall_m: 0.1333\n",
      "Epoch 4/6\n",
      "96/96 [==============================] - 1s 8ms/step - loss: 0.6477 - acc: 0.9167 - f1_m: 0.9244 - precision_m: 0.9828 - recall_m: 0.8733 - val_loss: 0.6689 - val_acc: 0.5200 - val_f1_m: 0.3333 - val_precision_m: 1.0000 - val_recall_m: 0.2000\n",
      "Epoch 5/6\n",
      "96/96 [==============================] - 1s 8ms/step - loss: 0.6169 - acc: 0.9271 - f1_m: 0.9233 - precision_m: 0.9828 - recall_m: 0.8708 - val_loss: 0.6556 - val_acc: 0.4800 - val_f1_m: 0.2353 - val_precision_m: 1.0000 - val_recall_m: 0.1333\n",
      "Epoch 6/6\n",
      "96/96 [==============================] - 1s 8ms/step - loss: 0.5630 - acc: 0.9167 - f1_m: 0.9149 - precision_m: 0.9815 - recall_m: 0.8569 - val_loss: 0.6367 - val_acc: 0.4800 - val_f1_m: 0.2353 - val_precision_m: 1.0000 - val_recall_m: 0.1333\n",
      "loss 0.622389018535614 accuracy 0.5806451439857483 f1 0.23529410362243652 precision 0.6666666865348816 recall 0.1428571492433548 Test Score: 0.622389018535614 Test Accuracy: 0.5806451439857483\n"
     ]
    },
    {
     "data": {
      "image/png": "[encoded data removed]",
      "text/plain": [
       "<Figure size 432x288 with 1 Axes>"
      ]
     },
     "metadata": {
      "needs_background": "light"
     },
     "output_type": "display_data"
    },
    {
     "data": {
      "image/png": "[encoded data removed]",
      "text/plain": [
       "<Figure size 432x288 with 1 Axes>"
      ]
     },
     "metadata": {
      "needs_background": "light"
     },
     "output_type": "display_data"
    }
   ],
   "source": [
    "# LSTM   define model\n",
    "model = Sequential()\n",
    "model.add(Embedding(vocab_size, 200, input_length=30))\n",
    "# model.add(Conv1D(filters=32, kernel_size=8, activation='relu'))\n",
    "# model.add(MaxPooling1D(pool_size=2))\n",
    "# model.add(Dense(256, activation='relu', input_shape=(n_cols,)))\n",
    "# model.add(Dense(128, activation='relu'))\n",
    "# model.add(Dropout(0.2))\n",
    "model.add(LSTM(128))\n",
    "# model.add(Dense(10, activation='relu'))\n",
    "#model.add(Flatten())\n",
    "model.add(Dense(1, activation='sigmoid'))\n",
    "\n",
    "model.compile(loss='binary_crossentropy', optimizer='adam', metrics=['acc',f1_m,precision_m, recall_m])\n",
    "print(model.summary())\n",
    "# fit network\n",
    "test_model(model)"
   ]
  },
  {
   "cell_type": "code",
   "execution_count": 85,
   "metadata": {},
   "outputs": [
    {
     "name": "stdout",
     "output_type": "stream",
     "text": [
      "Model: \"sequential_35\"\n",
      "_________________________________________________________________\n",
      "Layer (type)                 Output Shape              Param #   \n",
      "=================================================================\n",
      "embedding_33 (Embedding)     (None, 30, 200)           451200    \n",
      "_________________________________________________________________\n",
      "flatten_23 (Flatten)         (None, 6000)              0         \n",
      "_________________________________________________________________\n",
      "dense_31 (Dense)             (None, 1)                 6001      \n",
      "=================================================================\n",
      "Total params: 457,201\n",
      "Trainable params: 457,201\n",
      "Non-trainable params: 0\n",
      "_________________________________________________________________\n",
      "None\n",
      "Train on 96 samples, validate on 25 samples\n",
      "Epoch 1/6\n",
      "96/96 [==============================] - 3s 28ms/step - loss: 0.6942 - acc: 0.4583 - f1_m: 0.5392 - precision_m: 0.5279 - recall_m: 0.5658 - val_loss: 0.6799 - val_acc: 0.6800 - val_f1_m: 0.6923 - val_precision_m: 0.8182 - val_recall_m: 0.6000\n",
      "Epoch 2/6\n",
      "96/96 [==============================] - 0s 1ms/step - loss: 0.6512 - acc: 0.9583 - f1_m: 0.9440 - precision_m: 0.9440 - recall_m: 0.9440 - val_loss: 0.6679 - val_acc: 0.6800 - val_f1_m: 0.6923 - val_precision_m: 0.8182 - val_recall_m: 0.6000\n",
      "Epoch 3/6\n",
      "96/96 [==============================] - 0s 1ms/step - loss: 0.6083 - acc: 1.0000 - f1_m: 1.0000 - precision_m: 1.0000 - recall_m: 1.0000 - val_loss: 0.6551 - val_acc: 0.6800 - val_f1_m: 0.6923 - val_precision_m: 0.8182 - val_recall_m: 0.6000\n",
      "Epoch 4/6\n",
      "96/96 [==============================] - 0s 1ms/step - loss: 0.5665 - acc: 1.0000 - f1_m: 1.0000 - precision_m: 1.0000 - recall_m: 1.0000 - val_loss: 0.6425 - val_acc: 0.6800 - val_f1_m: 0.6923 - val_precision_m: 0.8182 - val_recall_m: 0.6000\n",
      "Epoch 5/6\n",
      "96/96 [==============================] - 0s 1ms/step - loss: 0.5247 - acc: 1.0000 - f1_m: 1.0000 - precision_m: 1.0000 - recall_m: 1.0000 - val_loss: 0.6288 - val_acc: 0.6800 - val_f1_m: 0.6923 - val_precision_m: 0.8182 - val_recall_m: 0.6000\n",
      "Epoch 6/6\n",
      "96/96 [==============================] - 0s 1ms/step - loss: 0.4832 - acc: 1.0000 - f1_m: 1.0000 - precision_m: 1.0000 - recall_m: 1.0000 - val_loss: 0.6152 - val_acc: 0.6400 - val_f1_m: 0.6400 - val_precision_m: 0.8000 - val_recall_m: 0.5333\n",
      "loss 0.6042671799659729 accuracy 0.7419354915618896 f1 0.6923075914382935 precision 0.75 recall 0.6428571343421936 Test Score: 0.6042671799659729 Test Accuracy: 0.7419354915618896\n"
     ]
    },
    {
     "data": {
      "image/png": "[encoded data removed]",
      "text/plain": [
       "<Figure size 432x288 with 1 Axes>"
      ]
     },
     "metadata": {
      "needs_background": "light"
     },
     "output_type": "display_data"
    },
    {
     "data": {
      "image/png": "[encoded data removed]",
      "text/plain": [
       "<Figure size 432x288 with 1 Axes>"
      ]
     },
     "metadata": {
      "needs_background": "light"
     },
     "output_type": "display_data"
    }
   ],
   "source": [
    "#simple\n",
    "# define model\n",
    "model = Sequential()\n",
    "model.add(Embedding(vocab_size, 200, input_length=30))\n",
    "# model.add(MaxPooling1D(pool_size=2))\n",
    "# model.add(Dense(256, activation='relu', input_shape=(n_cols,)))\n",
    "# model.add(Dense(128, activation='relu'))\n",
    "# model.add(Dropout(0.2))\n",
    "\n",
    "# model.add(Dense(10, activation='relu'))\n",
    "model.add(Flatten())\n",
    "model.add(Dense(1, activation='sigmoid'))\n",
    "\n",
    "model.compile(loss='binary_crossentropy', optimizer='adam', metrics=['acc',f1_m,precision_m, recall_m])\n",
    "print(model.summary())\n",
    "# fit network\n",
    "test_model(model)\n"
   ]
  },
  {
   "cell_type": "code",
   "execution_count": null,
   "metadata": {},
   "outputs": [],
   "source": [
    "print(\"input shape \",model.input_shape)\n",
    "print(\"output shape \",model.output_shape)"
   ]
  },
  {
   "cell_type": "code",
   "execution_count": 120,
   "metadata": {},
   "outputs": [],
   "source": [
    "# from numpy import array\n",
    "# from numpy import asarray\n",
    "# from numpy import zeros\n",
    "\n",
    "# embeddings_dictionary = dict()\n",
    "# glove_file = open('embeddings/glove.6B/glove.6B.200d.txt', encoding=\"utf8\")\n",
    "\n",
    "# for line in glove_file:\n",
    "#     records = line.split()\n",
    "#     word = records[0]\n",
    "#     vector_dimensions = asarray(records[1:], dtype='float32')\n",
    "#     embeddings_dictionary [word] = vector_dimensions\n",
    "# glove_file.close()\n",
    "\n",
    "# embedding_matrix = zeros((vocab_size, 200))\n",
    "# for word, index in tokenizer.word_index.items():\n",
    "#     embedding_vector = embeddings_dictionary.get(word)\n",
    "#     if embedding_vector is not None:\n",
    "#         embedding_matrix[index] = embedding_vector"
   ]
  },
  {
   "cell_type": "code",
   "execution_count": 131,
   "metadata": {},
   "outputs": [],
   "source": [
    "def test_model(model):\n",
    "    history = model.fit(X_train, y_train, batch_size=64, epochs=6, verbose=1, validation_split=0.2)\n",
    "    score = model.evaluate(X_test, y_test, verbose=0)\n",
    "    \n",
    "    #loss, accuracy, f1_score, precision, recall\n",
    "    print(\"loss {} accuracy {} f1 {} precision {} recall {}\".format(*score), \"Test Score:\", score[0], \"Test Accuracy:\", score[1])\n",
    "\n",
    "\n",
    "\n",
    "    plt.plot(history.history['acc'])\n",
    "    plt.plot(history.history['val_acc'])\n",
    "\n",
    "    plt.title('model accuracy')\n",
    "    plt.ylabel('accuracy')\n",
    "    plt.xlabel('epoch')\n",
    "    plt.legend(['train','test'], loc='upper left')\n",
    "    plt.show()\n",
    "\n",
    "    plt.plot(history.history['loss'])\n",
    "    plt.plot(history.history['val_loss'])\n",
    "\n",
    "    plt.title('model loss')\n",
    "    plt.ylabel('loss')\n",
    "    plt.xlabel('epoch')\n",
    "    plt.legend(['train','test'], loc='upper left')\n",
    "    plt.show()\n",
    "    \n",
    "#     y_pred = model.predict(X_test)#, verbose=1)\n",
    "#     y_pred_bool = np.argmax(y_pred, axis=1)\n",
    "\n",
    "#     print(classification_report(y_test, y_pred_bool))\n",
    "\n",
    "#     cm = confusion_matrix(y_test,y_pred_bool)\n",
    "#     print(cm)\n",
    "#     print(y_pred)\n",
    "#     false_positive_rate, true_positive_rate, thresholds = roc_curve(y_test, y_pred)\n",
    "#     roc_auc = auc(false_positive_rate, true_positive_rate)\n",
    "#     print ('AUC-'+'=',roc_auc)"
   ]
  },
  {
   "cell_type": "code",
   "execution_count": 28,
   "metadata": {},
   "outputs": [],
   "source": [
    "from keras import backend as K\n",
    "\n",
    "def recall_m(y_true, y_pred):\n",
    "        true_positives = K.sum(K.round(K.clip(y_true * y_pred, 0, 1)))\n",
    "        possible_positives = K.sum(K.round(K.clip(y_true, 0, 1)))\n",
    "        recall = true_positives / (possible_positives + K.epsilon())\n",
    "        return recall\n",
    "\n",
    "def precision_m(y_true, y_pred):\n",
    "        true_positives = K.sum(K.round(K.clip(y_true * y_pred, 0, 1)))\n",
    "        predicted_positives = K.sum(K.round(K.clip(y_pred, 0, 1)))\n",
    "        precision = true_positives / (predicted_positives + K.epsilon())\n",
    "        return precision\n",
    "\n",
    "def f1_m(y_true, y_pred):\n",
    "    precision = precision_m(y_true, y_pred)\n",
    "    recall = recall_m(y_true, y_pred)\n",
    "    return 2*((precision*recall)/(precision+recall+K.epsilon()))\n"
   ]
  },
  {
   "cell_type": "code",
   "execution_count": 132,
   "metadata": {},
   "outputs": [
    {
     "name": "stdout",
     "output_type": "stream",
     "text": [
      "Model: \"sequential_65\"\n",
      "_________________________________________________________________\n",
      "Layer (type)                 Output Shape              Param #   \n",
      "=================================================================\n",
      "embedding_63 (Embedding)     (None, 50, 200)           451200    \n",
      "_________________________________________________________________\n",
      "flatten_33 (Flatten)         (None, 10000)             0         \n",
      "_________________________________________________________________\n",
      "dense_60 (Dense)             (None, 1)                 10001     \n",
      "=================================================================\n",
      "Total params: 461,201\n",
      "Trainable params: 10,001\n",
      "Non-trainable params: 451,200\n",
      "_________________________________________________________________\n",
      "None\n",
      "Train on 96 samples, validate on 25 samples\n",
      "Epoch 1/6\n",
      "96/96 [==============================] - 9s 92ms/step - loss: 0.7459 - acc: 0.5000 - f1_m: 0.3605 - precision_m: 0.7167 - recall_m: 0.3111 - val_loss: 0.7099 - val_acc: 0.5200 - val_f1_m: 0.3333 - val_precision_m: 1.0000 - val_recall_m: 0.2000\n",
      "Epoch 2/6\n",
      "96/96 [==============================] - 0s 716us/step - loss: 0.4959 - acc: 0.8542 - f1_m: 0.8180 - precision_m: 0.9643 - recall_m: 0.7201 - val_loss: 0.5835 - val_acc: 0.7600 - val_f1_m: 0.8000 - val_precision_m: 0.8000 - val_recall_m: 0.8000\n",
      "Epoch 3/6\n",
      "96/96 [==============================] - 0s 680us/step - loss: 0.3943 - acc: 0.9583 - f1_m: 0.9570 - precision_m: 0.9177 - recall_m: 1.0000 - val_loss: 0.5352 - val_acc: 0.8400 - val_f1_m: 0.8824 - val_precision_m: 0.7895 - val_recall_m: 1.0000\n",
      "Epoch 4/6\n",
      "96/96 [==============================] - 0s 657us/step - loss: 0.3001 - acc: 0.9583 - f1_m: 0.9604 - precision_m: 0.9237 - recall_m: 1.0000 - val_loss: 0.5240 - val_acc: 0.8400 - val_f1_m: 0.8571 - val_precision_m: 0.9231 - val_recall_m: 0.8000\n",
      "Epoch 5/6\n",
      "96/96 [==============================] - 0s 631us/step - loss: 0.2077 - acc: 0.9896 - f1_m: 0.9930 - precision_m: 0.9861 - recall_m: 1.0000 - val_loss: 0.5793 - val_acc: 0.6000 - val_f1_m: 0.5455 - val_precision_m: 0.8571 - val_recall_m: 0.4000\n",
      "Epoch 6/6\n",
      "96/96 [==============================] - 0s 762us/step - loss: 0.1703 - acc: 1.0000 - f1_m: 1.0000 - precision_m: 1.0000 - recall_m: 1.0000 - val_loss: 0.6156 - val_acc: 0.6000 - val_f1_m: 0.5455 - val_precision_m: 0.8571 - val_recall_m: 0.4000\n",
      "loss 0.5667729377746582 accuracy 0.7096773982048035 f1 0.5714285373687744 precision 0.8571428656578064 recall 0.4285714328289032 Test Score: 0.5667729377746582 Test Accuracy: 0.7096773982048035\n"
     ]
    },
    {
     "data": {
      "image/png": "[encoded data removed]",
      "text/plain": [
       "<Figure size 432x288 with 1 Axes>"
      ]
     },
     "metadata": {
      "needs_background": "light"
     },
     "output_type": "display_data"
    },
    {
     "data": {
      "image/png": "[encoded data removed]",
      "text/plain": [
       "<Figure size 432x288 with 1 Axes>"
      ]
     },
     "metadata": {
      "needs_background": "light"
     },
     "output_type": "display_data"
    }
   ],
   "source": [
    "#Simple\n",
    "model = Sequential()\n",
    "embedding_layer = Embedding(vocab_size, 200, weights=[embedding_matrix], input_length=50 , trainable=False)\n",
    "model.add(embedding_layer)\n",
    "\n",
    "model.add(Flatten())\n",
    "model.add(Dense(1, activation='sigmoid'))\n",
    "model.compile(optimizer='adam', loss='binary_crossentropy', metrics=['acc',f1_m,precision_m, recall_m])\n",
    "\n",
    "print(model.summary())\n",
    "test_model(model)"
   ]
  },
  {
   "cell_type": "markdown",
   "metadata": {},
   "source": [
    "The plots here show that our neural networks is clearly overfitting."
   ]
  },
  {
   "cell_type": "code",
   "execution_count": 133,
   "metadata": {},
   "outputs": [
    {
     "name": "stdout",
     "output_type": "stream",
     "text": [
      "Train on 96 samples, validate on 25 samples\n",
      "Epoch 1/6\n",
      "96/96 [==============================] - 9s 94ms/step - loss: 0.7210 - acc: 0.5625 - f1_m: 0.3918 - precision_m: 0.7700 - recall_m: 0.4552 - val_loss: 0.6360 - val_acc: 0.5200 - val_f1_m: 0.5000 - val_precision_m: 0.6667 - val_recall_m: 0.4000\n",
      "Epoch 2/6\n",
      "96/96 [==============================] - 0s 3ms/step - loss: 0.4692 - acc: 0.8958 - f1_m: 0.8709 - precision_m: 0.8250 - recall_m: 0.9559 - val_loss: 0.5248 - val_acc: 0.8000 - val_f1_m: 0.8571 - val_precision_m: 0.7500 - val_recall_m: 1.0000\n",
      "Epoch 3/6\n",
      "96/96 [==============================] - 0s 4ms/step - loss: 0.3306 - acc: 0.9583 - f1_m: 0.9667 - precision_m: 0.9375 - recall_m: 1.0000 - val_loss: 0.5214 - val_acc: 0.7600 - val_f1_m: 0.7857 - val_precision_m: 0.8462 - val_recall_m: 0.7333\n",
      "Epoch 4/6\n",
      "96/96 [==============================] - 0s 3ms/step - loss: 0.2341 - acc: 1.0000 - f1_m: 1.0000 - precision_m: 1.0000 - recall_m: 1.0000 - val_loss: 0.4912 - val_acc: 0.7600 - val_f1_m: 0.7857 - val_precision_m: 0.8462 - val_recall_m: 0.7333\n",
      "Epoch 5/6\n",
      "96/96 [==============================] - 0s 3ms/step - loss: 0.1800 - acc: 1.0000 - f1_m: 1.0000 - precision_m: 1.0000 - recall_m: 1.0000 - val_loss: 0.4209 - val_acc: 0.8800 - val_f1_m: 0.9032 - val_precision_m: 0.8750 - val_recall_m: 0.9333\n",
      "Epoch 6/6\n",
      "96/96 [==============================] - 0s 3ms/step - loss: 0.1387 - acc: 1.0000 - f1_m: 1.0000 - precision_m: 1.0000 - recall_m: 1.0000 - val_loss: 0.3785 - val_acc: 0.8800 - val_f1_m: 0.9032 - val_precision_m: 0.8750 - val_recall_m: 0.9333\n",
      "loss 0.4757371246814728 accuracy 0.7419354915618896 f1 0.7777777314186096 precision 0.6363636255264282 recall 1.0 Test Score: 0.4757371246814728 Test Accuracy: 0.7419354915618896\n"
     ]
    },
    {
     "data": {
      "image/png": "[encoded data removed]",
      "text/plain": [
       "<Figure size 432x288 with 1 Axes>"
      ]
     },
     "metadata": {
      "needs_background": "light"
     },
     "output_type": "display_data"
    },
    {
     "data": {
      "image/png": "[encoded data removed]",
      "text/plain": [
       "<Figure size 432x288 with 1 Axes>"
      ]
     },
     "metadata": {
      "needs_background": "light"
     },
     "output_type": "display_data"
    }
   ],
   "source": [
    "#try CNN\n",
    "model = Sequential()\n",
    "\n",
    "embedding_layer = Embedding(vocab_size, 200, weights=[embedding_matrix], input_length=50 , trainable=False)\n",
    "model.add(embedding_layer)\n",
    "\n",
    "model.add(Conv1D(128, 5, activation='relu'))\n",
    "model.add(GlobalMaxPooling1D())\n",
    "model.add(Dense(1, activation='sigmoid'))\n",
    "model.compile(optimizer='adam', loss='binary_crossentropy', metrics=['acc',f1_m,precision_m, recall_m])\n",
    "test_model(model)"
   ]
  },
  {
   "cell_type": "code",
   "execution_count": 134,
   "metadata": {},
   "outputs": [
    {
     "name": "stdout",
     "output_type": "stream",
     "text": [
      "Train on 96 samples, validate on 25 samples\n",
      "Epoch 1/6\n",
      "96/96 [==============================] - 11s 115ms/step - loss: 0.6954 - acc: 0.5208 - f1_m: 0.2961 - precision_m: 0.7500 - recall_m: 0.2571 - val_loss: 0.7264 - val_acc: 0.4400 - val_f1_m: 0.1250 - val_precision_m: 1.0000 - val_recall_m: 0.0667\n",
      "Epoch 2/6\n",
      "96/96 [==============================] - 1s 15ms/step - loss: 0.6451 - acc: 0.6042 - f1_m: 0.3579 - precision_m: 0.9286 - recall_m: 0.2218 - val_loss: 0.6933 - val_acc: 0.4800 - val_f1_m: 0.3158 - val_precision_m: 0.7500 - val_recall_m: 0.2000\n",
      "Epoch 3/6\n",
      "96/96 [==============================] - 1s 12ms/step - loss: 0.6111 - acc: 0.8125 - f1_m: 0.7875 - precision_m: 0.9643 - recall_m: 0.6804 - val_loss: 0.6820 - val_acc: 0.6000 - val_f1_m: 0.5833 - val_precision_m: 0.7778 - val_recall_m: 0.4667\n",
      "Epoch 4/6\n",
      "96/96 [==============================] - 1s 14ms/step - loss: 0.5845 - acc: 0.8229 - f1_m: 0.7842 - precision_m: 0.7812 - recall_m: 0.8684 - val_loss: 0.6875 - val_acc: 0.5200 - val_f1_m: 0.4545 - val_precision_m: 0.7143 - val_recall_m: 0.3333\n",
      "Epoch 5/6\n",
      "96/96 [==============================] - 2s 20ms/step - loss: 0.5473 - acc: 0.8438 - f1_m: 0.8151 - precision_m: 0.9583 - recall_m: 0.7126 - val_loss: 0.7398 - val_acc: 0.4800 - val_f1_m: 0.3158 - val_precision_m: 0.7500 - val_recall_m: 0.2000\n",
      "Epoch 6/6\n",
      "96/96 [==============================] - 1s 15ms/step - loss: 0.5182 - acc: 0.7812 - f1_m: 0.7375 - precision_m: 0.9737 - recall_m: 0.5942 - val_loss: 0.7253 - val_acc: 0.5200 - val_f1_m: 0.4000 - val_precision_m: 0.8000 - val_recall_m: 0.2667\n",
      "loss 0.6061186194419861 accuracy 0.6451612710952759 f1 0.52173912525177 precision 0.6666666865348816 recall 0.4285714328289032 Test Score: 0.6061186194419861 Test Accuracy: 0.6451612710952759\n"
     ]
    },
    {
     "data": {
      "image/png": "[encoded data removed]",
      "text/plain": [
       "<Figure size 432x288 with 1 Axes>"
      ]
     },
     "metadata": {
      "needs_background": "light"
     },
     "output_type": "display_data"
    },
    {
     "data": {
      "image/png": "[encoded data removed]",
      "text/plain": [
       "<Figure size 432x288 with 1 Axes>"
      ]
     },
     "metadata": {
      "needs_background": "light"
     },
     "output_type": "display_data"
    }
   ],
   "source": [
    "#RNN, LSTM\n",
    "model = Sequential()\n",
    "embedding_layer = Embedding(vocab_size, 200, weights=[embedding_matrix], input_length=50 , trainable=False)\n",
    "model.add(embedding_layer)\n",
    "model.add(LSTM(128))\n",
    "\n",
    "model.add(Dense(1, activation='sigmoid'))\n",
    "model.compile(optimizer='adam', loss='binary_crossentropy', metrics=['acc',f1_m,precision_m, recall_m])\n",
    "test_model(model)"
   ]
  },
  {
   "cell_type": "code",
   "execution_count": null,
   "metadata": {},
   "outputs": [],
   "source": []
  },
  {
   "cell_type": "code",
   "execution_count": null,
   "metadata": {},
   "outputs": [],
   "source": []
  },
  {
   "cell_type": "code",
   "execution_count": 87,
   "metadata": {},
   "outputs": [],
   "source": [
    "#create word embeddings\n",
    "from nltk.tokenize import word_tokenize\n",
    "\n",
    "# #find total number of words in our corpus\n",
    "# all_words = []\n",
    "# for sent in food_df['text']:\n",
    "#     tokenize_word = word_tokenize(sent)\n",
    "#     for word in tokenize_word:\n",
    "#         all_words.append(word)\n",
    "# #filter duplicate words\n",
    "# unique_words = set(all_words)\n",
    "# vocab_length = len(unique_words)\n",
    "# #set vocab_length to 4600 \n",
    "\n",
    "# #convert text to numbers by using the one_hot function from the keras.preprocessing.text library. \n",
    "# embedded_sentences = [one_hot(sent, vocab_length) for sent in food_df['text']]\n",
    "\n",
    "\n",
    "word_tokenizer = Tokenizer()\n",
    "word_tokenizer.fit_on_texts(food_df['text'])\n",
    "vocab_length = len(word_tokenizer.word_index) + 1\n",
    "embedded_sentences = word_tokenizer.texts_to_sequences(food_df['text'])"
   ]
  },
  {
   "cell_type": "code",
   "execution_count": 65,
   "metadata": {},
   "outputs": [
    {
     "name": "stdout",
     "output_type": "stream",
     "text": [
      "[[ 130   13   11 ...    0    0    0]\n",
      " [   3   47   33 ...    0    0    0]\n",
      " [1239  194   26 ...    0    0    0]\n",
      " ...\n",
      " [   1   36   10 ...    0    0    0]\n",
      " [   1  183    3 ...    0    0    0]\n",
      " [   3   17   84 ...    0    0    0]]\n"
     ]
    }
   ],
   "source": [
    "#The embedding layer expects sentences to be of equal size. We find the largest sentence and pad the sentences with 0\n",
    "# word_count = lambda sentence: len(word_tokenize(sentence))\n",
    "# longest_sentence = max(food_df['text'], key=word_count)\n",
    "# length_long_sentence = len(word_tokenize(longest_sentence))\n",
    "# padded_sentences = pad_sequences(embedded_sentences, length_long_sentence, padding='post')\n",
    "# print(padded_sentences)\n",
    "word_count = lambda sentence: len(word_tokenize(sentence))\n",
    "longest_sentence = max(food_df['text'], key=word_count)\n",
    "length_long_sentence = len(word_tokenize(longest_sentence))\n",
    "padded_sentences = pad_sequences(embedded_sentences, length_long_sentence, padding='post')"
   ]
  },
  {
   "cell_type": "code",
   "execution_count": 70,
   "metadata": {},
   "outputs": [
    {
     "name": "stdout",
     "output_type": "stream",
     "text": [
      "Model: \"sequential_7\"\n",
      "_________________________________________________________________\n",
      "Layer (type)                 Output Shape              Param #   \n",
      "=================================================================\n",
      "embedding_7 (Embedding)      (None, 912, 30)           137550    \n",
      "_________________________________________________________________\n",
      "flatten_7 (Flatten)          (None, 27360)             0         \n",
      "_________________________________________________________________\n",
      "dense_7 (Dense)              (None, 1)                 27361     \n",
      "=================================================================\n",
      "Total params: 164,911\n",
      "Trainable params: 164,911\n",
      "Non-trainable params: 0\n",
      "_________________________________________________________________\n",
      "None\n"
     ]
    }
   ],
   "source": [
    "model = Sequential()\n",
    "model.add(Embedding(vocab_length, 30, input_length=length_long_sentence))\n",
    "model.add(Flatten())\n",
    "model.add(Dense(1, activation='sigmoid'))\n",
    "model.compile(optimizer='adam', loss='binary_crossentropy', metrics=['mse', 'accuracy'])\n",
    "print(model.summary())"
   ]
  },
  {
   "cell_type": "code",
   "execution_count": 71,
   "metadata": {},
   "outputs": [
    {
     "name": "stdout",
     "output_type": "stream",
     "text": [
      "Epoch 1/20\n",
      "297/297 [==============================] - 10s 35ms/step - loss: 0.5295 - mse: 0.1619 - accuracy: 0.7744\n",
      "Epoch 2/20\n",
      "297/297 [==============================] - 2s 6ms/step - loss: 0.4597 - mse: 0.1410 - accuracy: 0.8316\n",
      "Epoch 3/20\n",
      "297/297 [==============================] - 2s 7ms/step - loss: 0.4322 - mse: 0.1326 - accuracy: 0.8316\n",
      "Epoch 4/20\n",
      "297/297 [==============================] - 2s 7ms/step - loss: 0.4078 - mse: 0.1248 - accuracy: 0.8350\n",
      "Epoch 5/20\n",
      "297/297 [==============================] - 2s 6ms/step - loss: 0.3889 - mse: 0.1198 - accuracy: 0.8384\n",
      "Epoch 6/20\n",
      "297/297 [==============================] - 2s 7ms/step - loss: 0.3577 - mse: 0.1037 - accuracy: 0.8552\n",
      "Epoch 7/20\n",
      "297/297 [==============================] - 2s 8ms/step - loss: 0.3174 - mse: 0.0933 - accuracy: 0.8552\n",
      "Epoch 8/20\n",
      "297/297 [==============================] - 2s 6ms/step - loss: 0.2795 - mse: 0.0809 - accuracy: 0.8788\n",
      "Epoch 9/20\n",
      "297/297 [==============================] - 2s 6ms/step - loss: 0.2416 - mse: 0.0647 - accuracy: 0.8990\n",
      "Epoch 10/20\n",
      "297/297 [==============================] - 2s 6ms/step - loss: 0.2064 - mse: 0.0508 - accuracy: 0.9226\n",
      "Epoch 11/20\n",
      "297/297 [==============================] - 2s 6ms/step - loss: 0.1772 - mse: 0.0471 - accuracy: 0.9192\n",
      "Epoch 12/20\n",
      "297/297 [==============================] - 1s 4ms/step - loss: 0.1455 - mse: 0.0299 - accuracy: 0.9630\n",
      "Epoch 13/20\n",
      "297/297 [==============================] - 1s 4ms/step - loss: 0.1165 - mse: 0.0239 - accuracy: 0.9731\n",
      "Epoch 14/20\n",
      "297/297 [==============================] - 1s 4ms/step - loss: 0.0958 - mse: 0.0200 - accuracy: 0.9731\n",
      "Epoch 15/20\n",
      "297/297 [==============================] - 1s 4ms/step - loss: 0.0791 - mse: 0.0136 - accuracy: 0.9832\n",
      "Epoch 16/20\n",
      "297/297 [==============================] - 2s 6ms/step - loss: 0.0648 - mse: 0.0102 - accuracy: 0.9865\n",
      "Epoch 17/20\n",
      "297/297 [==============================] - 2s 6ms/step - loss: 0.0544 - mse: 0.0087 - accuracy: 0.9865\n",
      "Epoch 18/20\n",
      "297/297 [==============================] - 2s 7ms/step - loss: 0.0464 - mse: 0.0059 - accuracy: 0.9933\n",
      "Epoch 19/20\n",
      "297/297 [==============================] - 2s 6ms/step - loss: 0.0392 - mse: 0.0044 - accuracy: 1.0000\n",
      "Epoch 20/20\n",
      "297/297 [==============================] - 2s 6ms/step - loss: 0.0330 - mse: 0.0040 - accuracy: 1.0000\n"
     ]
    },
    {
     "ename": "ValueError",
     "evalue": "too many values to unpack (expected 2)",
     "output_type": "error",
     "traceback": [
      "\u001b[0;31m---------------------------------------------------------------------------\u001b[0m",
      "\u001b[0;31mValueError\u001b[0m                                Traceback (most recent call last)",
      "\u001b[0;32m<ipython-input-71-5e0a57a8472c>\u001b[0m in \u001b[0;36m<module>\u001b[0;34m\u001b[0m\n\u001b[1;32m      4\u001b[0m \u001b[0mX_train\u001b[0m\u001b[0;34m,\u001b[0m \u001b[0mX_test\u001b[0m\u001b[0;34m,\u001b[0m \u001b[0my_train\u001b[0m\u001b[0;34m,\u001b[0m \u001b[0my_test\u001b[0m \u001b[0;34m=\u001b[0m \u001b[0mtrain_test_split\u001b[0m\u001b[0;34m(\u001b[0m\u001b[0mpadded_sentences\u001b[0m\u001b[0;34m,\u001b[0m \u001b[0msentiments\u001b[0m\u001b[0;34m,\u001b[0m \u001b[0mtest_size\u001b[0m\u001b[0;34m=\u001b[0m\u001b[0;36m0.2\u001b[0m\u001b[0;34m,\u001b[0m \u001b[0mrandom_state\u001b[0m\u001b[0;34m=\u001b[0m\u001b[0;36m0\u001b[0m\u001b[0;34m)\u001b[0m\u001b[0;34m\u001b[0m\u001b[0;34m\u001b[0m\u001b[0m\n\u001b[1;32m      5\u001b[0m \u001b[0mmodel\u001b[0m\u001b[0;34m.\u001b[0m\u001b[0mfit\u001b[0m\u001b[0;34m(\u001b[0m\u001b[0mX_train\u001b[0m\u001b[0;34m,\u001b[0m \u001b[0my_train\u001b[0m\u001b[0;34m,\u001b[0m \u001b[0mepochs\u001b[0m\u001b[0;34m=\u001b[0m\u001b[0;36m20\u001b[0m\u001b[0;34m,\u001b[0m \u001b[0mverbose\u001b[0m\u001b[0;34m=\u001b[0m\u001b[0;36m1\u001b[0m\u001b[0;34m)\u001b[0m\u001b[0;34m\u001b[0m\u001b[0;34m\u001b[0m\u001b[0m\n\u001b[0;32m----> 6\u001b[0;31m \u001b[0mloss\u001b[0m\u001b[0;34m,\u001b[0m \u001b[0maccuracy\u001b[0m \u001b[0;34m=\u001b[0m \u001b[0mmodel\u001b[0m\u001b[0;34m.\u001b[0m\u001b[0mevaluate\u001b[0m\u001b[0;34m(\u001b[0m\u001b[0mX_test\u001b[0m\u001b[0;34m,\u001b[0m \u001b[0my_test\u001b[0m\u001b[0;34m,\u001b[0m \u001b[0mverbose\u001b[0m\u001b[0;34m=\u001b[0m\u001b[0;36m0\u001b[0m\u001b[0;34m)\u001b[0m\u001b[0;34m\u001b[0m\u001b[0;34m\u001b[0m\u001b[0m\n\u001b[0m\u001b[1;32m      7\u001b[0m \u001b[0mprint\u001b[0m\u001b[0;34m(\u001b[0m\u001b[0;34m'Accuracy: %f%f'\u001b[0m \u001b[0;34m%\u001b[0m \u001b[0;34m(\u001b[0m\u001b[0maccuracy\u001b[0m\u001b[0;34m*\u001b[0m\u001b[0;36m100\u001b[0m\u001b[0;34m)\u001b[0m\u001b[0;34m)\u001b[0m\u001b[0;34m\u001b[0m\u001b[0;34m\u001b[0m\u001b[0m\n",
      "\u001b[0;31mValueError\u001b[0m: too many values to unpack (expected 2)"
     ]
    }
   ],
   "source": [
    "\n",
    "\n",
    "\n",
    "model.fit(X_train, y_train, epochs=20, verbose=1)\n",
    "loss, accuracy = model.evaluate(X_test, y_test, verbose=0)\n",
    "print('Accuracy: %f%f' % (accuracy*100))"
   ]
  }
 ],
 "metadata": {
  "kernelspec": {
   "display_name": "Python 3",
   "language": "python",
   "name": "python3"
  },
  "language_info": {
   "codemirror_mode": {
    "name": "ipython",
    "version": 3
   },
   "file_extension": ".py",
   "mimetype": "text/x-python",
   "name": "python",
   "nbconvert_exporter": "python",
   "pygments_lexer": "ipython3",
   "version": "3.7.1"
  }
 },
 "nbformat": 4,
 "nbformat_minor": 2
}
